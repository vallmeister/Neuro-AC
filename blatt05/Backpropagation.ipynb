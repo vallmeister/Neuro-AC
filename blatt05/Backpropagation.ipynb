{
 "cells": [
  {
   "cell_type": "markdown",
   "metadata": {},
   "source": [
    "# Backpropagation\n",
    "Hier wollen wir nun Backpropagation selbst implementieren... "
   ]
  },
  {
   "cell_type": "code",
   "execution_count": 1,
   "metadata": {},
   "outputs": [],
   "source": [
    "%matplotlib widget\n",
    "from mpl_toolkits.mplot3d import axes3d\n",
    "import matplotlib.pyplot as plt\n",
    "import numpy as np\n",
    "np.random.seed(42)"
   ]
  },
  {
   "cell_type": "markdown",
   "metadata": {},
   "source": [
    "### Funktionen"
   ]
  },
  {
   "cell_type": "code",
   "execution_count": 13,
   "metadata": {},
   "outputs": [],
   "source": [
    "def forward(inpX, w1, w2, b1, b2):\n",
    "    '''\n",
    "    Perform a forward step of the network. For the transfer function in the hidden layer, use tanh.\n",
    "    \n",
    "    Parameters\n",
    "    ----------\n",
    "    inpX : data matrix\n",
    "        input matrix, shaped as: samples x dimensions\n",
    "    w1 : matrix\n",
    "        weight matrix between input and hidden neurons\n",
    "    w2 : matrix\n",
    "        weight matrix between hidden and output neurons\n",
    "    b1 : vector\n",
    "        bias vector for the hidden neurons\n",
    "    b2 : vector\n",
    "        bias vector for the output neurons\n",
    "    '''\n",
    "    # hidden layer (tanh transfer function)\n",
    "    u1 = np.dot(inpX,w1) - b1\n",
    "    y1 = np.tanh(u1)\n",
    "    \n",
    "    # output layer (linear transfer function)\n",
    "    y2 = np.dot(y1,w2) - b2\n",
    "       \n",
    "    \n",
    "    return [u1,y1,y2]\n",
    "\n",
    "def initialize_weights(inpDim, hiddenNeurons, outDim):\n",
    "    '''\n",
    "    Initialize the weight matrix based on input Dimension, amount of hidden neurons and output dimension.\n",
    "    The range for the initial weights is given by [-.5; .5].\n",
    "    \n",
    "    Parameters\n",
    "    ----------\n",
    "    inpDim : int (k)\n",
    "        Number of input neurons\n",
    "    hiddenNeurons : int (i)\n",
    "        Number of hidden neurons\n",
    "    outDim : int (j)\n",
    "        Number of output neurons\n",
    "    weights : list\n",
    "        List containing the weights and biases in the following order: [w1, w2, b1, b2]\n",
    "    '''\n",
    "     \n",
    "    w1 = np.random.random_sample((inpDim, hiddenNeurons)) - 0.5\n",
    "    w2 = np.random.random_sample((hiddenNeurons, outDim)) - 0.5\n",
    "    b1 = np.random.random_sample((hiddenNeurons)) - 0.5\n",
    "    b2 = np.random.random_sample((outDim)) - 0.5\n",
    "    \n",
    "    weights = [w1, w2, b1, b2]\n",
    "    return weights\n",
    "\n",
    "def prop_error(T, y2, w2, transDiff_u1):\n",
    "    '''\n",
    "    Calculation of the error of the network\n",
    "    \n",
    "    Parameters\n",
    "    ----------\n",
    "    T : float\n",
    "        teaching signal of the current sample\n",
    "    y2 : float\n",
    "        output of the last neuron\n",
    "    w2 : data matrix\n",
    "        weight matrix between hidden and output layer\n",
    "    transDiff_u1 : vector\n",
    "        differential of the transfer function used on u1\n",
    "    '''\n",
    "\n",
    "    # Step 3: Error calculation\n",
    "    # f'(uj) = 1\n",
    "    delta2 = T-y2\n",
    "    \n",
    "    # Step 4: Backwards propagation\n",
    "    delta1 = np.multiply(np.dot(w2,delta2),transDiff_u1)\n",
    "\n",
    "    delta = [delta1, delta2]\n",
    "    return delta \n",
    "\n",
    "def training(hiddenNeurons, lernRate, inpX, outT, epoch):\n",
    "    '''\n",
    "    Train the neural network. \n",
    "    \n",
    "    Parameters\n",
    "    ----------\n",
    "    hiddenNeurons : int\n",
    "        Number of hidden Neurons\n",
    "    lernRate : float\n",
    "        Lernrate \\eta\n",
    "    inpX : data matrix\n",
    "        input data and shaped as: samples x dimensions \n",
    "    outT : vector\n",
    "        teaching signal: one dimensional vector\n",
    "    epoch : int\n",
    "        number of training epochs\n",
    "    '''\n",
    "    \n",
    "    nof_out = outT.shape\n",
    "    nof_in  = inpX.shape\n",
    "    \n",
    "    # step 1: initialize weights and biases [w1,w2,b1,b2]\n",
    "    weights = initialize_weights(30, hiddenNeurons, 30)\n",
    "    \n",
    "    \n",
    "    for i in range(epoch):\n",
    "        # step 2: Forward phase \n",
    "        forw_y = forward(inpX, weights[0], weights[1], weights[2], weights[3])\n",
    "        u1 = forw_y[0]\n",
    "        y1 = forw_y[1]\n",
    "        y2 = forw_y[2]\n",
    "        \n",
    "        ## step 3 & 4: error calculation\n",
    "        # derivative f'(u1)\n",
    "        transDiff_u1 = np.square(np.cosh(u1))\n",
    "        # random order of training data\n",
    "        T = np.random.permutation(outT)\n",
    "        delta = prop_error(T, y2, weights[1], transDiff_u1)\n",
    "    \n",
    "        # step 5 & 6:\n",
    "        # adapt weights\n",
    "        weights[1] = weights[1] + np.multiply(lernRate, np.multiply(y1,delta[2]))\n",
    "        weights[0] = weights[0] + np.multiply(lernRate, np.multiply(inpX,delta[1]))\n",
    "        # adapt threshold\n",
    "        weights[3] = weights[3] - np.multiply(lernRate, delta[2])\n",
    "        weights[2] = weights[2] - np.multiyply(lernRate, delta[1])\n",
    "                                          \n",
    "        # step 7: error calculation\n",
    "        # recalculate output\n",
    "        forw_y = forward(inpX, weights[0], weights[1], weights[2], weights[3])\n",
    "        y2 = forw_y[3]\n",
    "        E = 0\n",
    "        for j in range(T):\n",
    "            E = E + np.square(T[j]-y2[j])\n",
    "        error.append(E)\n",
    "    return weights"
   ]
  },
  {
   "cell_type": "markdown",
   "metadata": {},
   "source": [
    "### Initialiserung der Parameter.\n",
    "- X und Y entsprechen dem Datensatz\n",
    "- Z ist das Lehrersignal"
   ]
  },
  {
   "cell_type": "code",
   "execution_count": 14,
   "metadata": {},
   "outputs": [
    {
     "ename": "ValueError",
     "evalue": "cannot reshape array of size 900 into shape (3000,1)",
     "output_type": "error",
     "traceback": [
      "\u001b[0;31m---------------------------------------------------------------------------\u001b[0m",
      "\u001b[0;31mValueError\u001b[0m                                Traceback (most recent call last)",
      "\u001b[0;32m<ipython-input-14-b1fa2f13de5d>\u001b[0m in \u001b[0;36m<module>\u001b[0;34m\u001b[0m\n\u001b[1;32m     17\u001b[0m \u001b[0;31m## Training\u001b[0m\u001b[0;34m\u001b[0m\u001b[0;34m\u001b[0m\u001b[0;34m\u001b[0m\u001b[0m\n\u001b[1;32m     18\u001b[0m \u001b[0;31m# inpX and outT to be passed\u001b[0m\u001b[0;34m\u001b[0m\u001b[0;34m\u001b[0m\u001b[0;34m\u001b[0m\u001b[0m\n\u001b[0;32m---> 19\u001b[0;31m \u001b[0mweights\u001b[0m \u001b[0;34m=\u001b[0m \u001b[0mtraining\u001b[0m\u001b[0;34m(\u001b[0m\u001b[0mhiddenNeuronen\u001b[0m\u001b[0;34m,\u001b[0m \u001b[0mlernRate\u001b[0m\u001b[0;34m,\u001b[0m \u001b[0mnp\u001b[0m\u001b[0;34m.\u001b[0m\u001b[0mmultiply\u001b[0m\u001b[0;34m(\u001b[0m\u001b[0mx\u001b[0m\u001b[0;34m,\u001b[0m\u001b[0my\u001b[0m\u001b[0;34m)\u001b[0m\u001b[0;34m,\u001b[0m \u001b[0mz\u001b[0m \u001b[0;34m,\u001b[0m\u001b[0mepochen\u001b[0m\u001b[0;34m)\u001b[0m\u001b[0;34m\u001b[0m\u001b[0;34m\u001b[0m\u001b[0m\n\u001b[0m\u001b[1;32m     20\u001b[0m \u001b[0;34m\u001b[0m\u001b[0m\n\u001b[1;32m     21\u001b[0m \u001b[0;31m## Test network with training data\u001b[0m\u001b[0;34m\u001b[0m\u001b[0;34m\u001b[0m\u001b[0;34m\u001b[0m\u001b[0m\n",
      "\u001b[0;32m<ipython-input-13-9f40549738ea>\u001b[0m in \u001b[0;36mtraining\u001b[0;34m(hiddenNeurons, lernRate, inpX, outT, epoch)\u001b[0m\n\u001b[1;32m    116\u001b[0m         \u001b[0;31m# random order of training data\u001b[0m\u001b[0;34m\u001b[0m\u001b[0;34m\u001b[0m\u001b[0;34m\u001b[0m\u001b[0m\n\u001b[1;32m    117\u001b[0m         \u001b[0mT\u001b[0m \u001b[0;34m=\u001b[0m \u001b[0mnp\u001b[0m\u001b[0;34m.\u001b[0m\u001b[0mrandom\u001b[0m\u001b[0;34m.\u001b[0m\u001b[0mpermutation\u001b[0m\u001b[0;34m(\u001b[0m\u001b[0moutT\u001b[0m\u001b[0;34m)\u001b[0m\u001b[0;34m\u001b[0m\u001b[0;34m\u001b[0m\u001b[0m\n\u001b[0;32m--> 118\u001b[0;31m         \u001b[0mdelta\u001b[0m \u001b[0;34m=\u001b[0m \u001b[0mprop_error\u001b[0m\u001b[0;34m(\u001b[0m\u001b[0mT\u001b[0m\u001b[0;34m,\u001b[0m \u001b[0my2\u001b[0m\u001b[0;34m,\u001b[0m \u001b[0mweights\u001b[0m\u001b[0;34m[\u001b[0m\u001b[0;36m1\u001b[0m\u001b[0;34m]\u001b[0m\u001b[0;34m,\u001b[0m \u001b[0mtransDiff_u1\u001b[0m\u001b[0;34m)\u001b[0m\u001b[0;34m\u001b[0m\u001b[0;34m\u001b[0m\u001b[0m\n\u001b[0m\u001b[1;32m    119\u001b[0m \u001b[0;34m\u001b[0m\u001b[0m\n\u001b[1;32m    120\u001b[0m         \u001b[0;31m# step 5 & 6:\u001b[0m\u001b[0;34m\u001b[0m\u001b[0;34m\u001b[0m\u001b[0;34m\u001b[0m\u001b[0m\n",
      "\u001b[0;32m<ipython-input-13-9f40549738ea>\u001b[0m in \u001b[0;36mprop_error\u001b[0;34m(T, y2, w2, transDiff_u1)\u001b[0m\n\u001b[1;32m     67\u001b[0m     '''\n\u001b[1;32m     68\u001b[0m \u001b[0;34m\u001b[0m\u001b[0m\n\u001b[0;32m---> 69\u001b[0;31m     \u001b[0mnp\u001b[0m\u001b[0;34m.\u001b[0m\u001b[0mreshape\u001b[0m\u001b[0;34m(\u001b[0m\u001b[0mT\u001b[0m\u001b[0;34m,\u001b[0m \u001b[0;34m(\u001b[0m\u001b[0;36m3000\u001b[0m\u001b[0;34m,\u001b[0m\u001b[0;36m1\u001b[0m\u001b[0;34m)\u001b[0m\u001b[0;34m)\u001b[0m\u001b[0;34m\u001b[0m\u001b[0;34m\u001b[0m\u001b[0m\n\u001b[0m\u001b[1;32m     70\u001b[0m     \u001b[0mnp\u001b[0m\u001b[0;34m.\u001b[0m\u001b[0mreshape\u001b[0m\u001b[0;34m(\u001b[0m\u001b[0my2\u001b[0m\u001b[0;34m,\u001b[0m\u001b[0;34m(\u001b[0m\u001b[0;36m3000\u001b[0m\u001b[0;34m,\u001b[0m\u001b[0;36m1\u001b[0m\u001b[0;34m)\u001b[0m\u001b[0;34m)\u001b[0m\u001b[0;34m\u001b[0m\u001b[0;34m\u001b[0m\u001b[0m\n\u001b[1;32m     71\u001b[0m     \u001b[0;31m# Step 3: Error calculation\u001b[0m\u001b[0;34m\u001b[0m\u001b[0;34m\u001b[0m\u001b[0;34m\u001b[0m\u001b[0m\n",
      "\u001b[0;32m~/anaconda3/lib/python3.7/site-packages/numpy/core/fromnumeric.py\u001b[0m in \u001b[0;36mreshape\u001b[0;34m(a, newshape, order)\u001b[0m\n\u001b[1;32m    290\u001b[0m            [5, 6]])\n\u001b[1;32m    291\u001b[0m     \"\"\"\n\u001b[0;32m--> 292\u001b[0;31m     \u001b[0;32mreturn\u001b[0m \u001b[0m_wrapfunc\u001b[0m\u001b[0;34m(\u001b[0m\u001b[0ma\u001b[0m\u001b[0;34m,\u001b[0m \u001b[0;34m'reshape'\u001b[0m\u001b[0;34m,\u001b[0m \u001b[0mnewshape\u001b[0m\u001b[0;34m,\u001b[0m \u001b[0morder\u001b[0m\u001b[0;34m=\u001b[0m\u001b[0morder\u001b[0m\u001b[0;34m)\u001b[0m\u001b[0;34m\u001b[0m\u001b[0;34m\u001b[0m\u001b[0m\n\u001b[0m\u001b[1;32m    293\u001b[0m \u001b[0;34m\u001b[0m\u001b[0m\n\u001b[1;32m    294\u001b[0m \u001b[0;34m\u001b[0m\u001b[0m\n",
      "\u001b[0;32m~/anaconda3/lib/python3.7/site-packages/numpy/core/fromnumeric.py\u001b[0m in \u001b[0;36m_wrapfunc\u001b[0;34m(obj, method, *args, **kwds)\u001b[0m\n\u001b[1;32m     54\u001b[0m \u001b[0;32mdef\u001b[0m \u001b[0m_wrapfunc\u001b[0m\u001b[0;34m(\u001b[0m\u001b[0mobj\u001b[0m\u001b[0;34m,\u001b[0m \u001b[0mmethod\u001b[0m\u001b[0;34m,\u001b[0m \u001b[0;34m*\u001b[0m\u001b[0margs\u001b[0m\u001b[0;34m,\u001b[0m \u001b[0;34m**\u001b[0m\u001b[0mkwds\u001b[0m\u001b[0;34m)\u001b[0m\u001b[0;34m:\u001b[0m\u001b[0;34m\u001b[0m\u001b[0;34m\u001b[0m\u001b[0m\n\u001b[1;32m     55\u001b[0m     \u001b[0;32mtry\u001b[0m\u001b[0;34m:\u001b[0m\u001b[0;34m\u001b[0m\u001b[0;34m\u001b[0m\u001b[0m\n\u001b[0;32m---> 56\u001b[0;31m         \u001b[0;32mreturn\u001b[0m \u001b[0mgetattr\u001b[0m\u001b[0;34m(\u001b[0m\u001b[0mobj\u001b[0m\u001b[0;34m,\u001b[0m \u001b[0mmethod\u001b[0m\u001b[0;34m)\u001b[0m\u001b[0;34m(\u001b[0m\u001b[0;34m*\u001b[0m\u001b[0margs\u001b[0m\u001b[0;34m,\u001b[0m \u001b[0;34m**\u001b[0m\u001b[0mkwds\u001b[0m\u001b[0;34m)\u001b[0m\u001b[0;34m\u001b[0m\u001b[0;34m\u001b[0m\u001b[0m\n\u001b[0m\u001b[1;32m     57\u001b[0m \u001b[0;34m\u001b[0m\u001b[0m\n\u001b[1;32m     58\u001b[0m     \u001b[0;31m# An AttributeError occurs if the object does not have\u001b[0m\u001b[0;34m\u001b[0m\u001b[0;34m\u001b[0m\u001b[0;34m\u001b[0m\u001b[0m\n",
      "\u001b[0;31mValueError\u001b[0m: cannot reshape array of size 900 into shape (3000,1)"
     ]
    }
   ],
   "source": [
    "############\n",
    "## Generate some sample data\n",
    "def f(x,y):\n",
    "    return np.sin(np.sqrt(x**2 + y**2)) + np.cos(.9*(x-y))\n",
    "\n",
    "X = np.linspace(-6, 6, 30)\n",
    "Y = np.linspace(-6, 6, 30)\n",
    "x, y = np.meshgrid(X, Y)\n",
    "z = f(x, y)\n",
    "\n",
    "############\n",
    "## Initialize network parameter\n",
    "hiddenNeuronen = 100\n",
    "lernRate       = 0.01\n",
    "epochen        = 1000\n",
    "\n",
    "## Training \n",
    "# inpX and outT to be passed\n",
    "weights = training(hiddenNeuronen, lernRate, np.multiply(x,y), z ,epochen)\n",
    "\n",
    "## Test network with training data\n",
    "forw_y = forward(xxx, weights[0], weights[1], weights[2], weights[3])"
   ]
  },
  {
   "cell_type": "markdown",
   "metadata": {},
   "source": [
    "### Visualisierung der Daten"
   ]
  },
  {
   "cell_type": "code",
   "execution_count": 5,
   "metadata": {
    "scrolled": false
   },
   "outputs": [
    {
     "data": {
      "application/vnd.jupyter.widget-view+json": {
       "model_id": "4962a6097e274624a4cc87f14193f510",
       "version_major": 2,
       "version_minor": 0
      },
      "text/plain": [
       "FigureCanvasNbAgg()"
      ]
     },
     "metadata": {},
     "output_type": "display_data"
    }
   ],
   "source": [
    "fig = plt.figure()\n",
    "ax1 = fig.add_subplot(111, projection='3d')\n",
    "surf = ax1.plot_surface(x,y,z, cmap = 'plasma',\n",
    "                       linewidth=0, antialiased=False)\n",
    "ax1.set_title('Original')\n",
    "ax1.set_xlabel('x')\n",
    "ax1.set_ylabel('y')\n",
    "ax1.set_zlabel('Original');"
   ]
  },
  {
   "cell_type": "code",
   "execution_count": 18,
   "metadata": {},
   "outputs": [
    {
     "ename": "NameError",
     "evalue": "name 'w2' is not defined",
     "output_type": "error",
     "traceback": [
      "\u001b[0;31m---------------------------------------------------------------------------\u001b[0m",
      "\u001b[0;31mNameError\u001b[0m                                 Traceback (most recent call last)",
      "\u001b[0;32m<ipython-input-18-c1dce03f234f>\u001b[0m in \u001b[0;36m<module>\u001b[0;34m\u001b[0m\n\u001b[0;32m----> 1\u001b[0;31m \u001b[0mnp\u001b[0m\u001b[0;34m.\u001b[0m\u001b[0mdot\u001b[0m\u001b[0;34m(\u001b[0m\u001b[0mw2\u001b[0m\u001b[0;34m,\u001b[0m\u001b[0mdelta2\u001b[0m\u001b[0;34m)\u001b[0m\u001b[0;34m\u001b[0m\u001b[0;34m\u001b[0m\u001b[0m\n\u001b[0m",
      "\u001b[0;31mNameError\u001b[0m: name 'w2' is not defined"
     ]
    }
   ],
   "source": []
  },
  {
   "cell_type": "code",
   "execution_count": null,
   "metadata": {},
   "outputs": [],
   "source": []
  }
 ],
 "metadata": {
  "kernelspec": {
   "display_name": "Python 3",
   "language": "python",
   "name": "python3"
  },
  "language_info": {
   "codemirror_mode": {
    "name": "ipython",
    "version": 3
   },
   "file_extension": ".py",
   "mimetype": "text/x-python",
   "name": "python",
   "nbconvert_exporter": "python",
   "pygments_lexer": "ipython3",
   "version": "3.7.3"
  }
 },
 "nbformat": 4,
 "nbformat_minor": 2
}
