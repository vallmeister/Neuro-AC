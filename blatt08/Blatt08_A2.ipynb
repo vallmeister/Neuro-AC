{
 "cells": [
  {
   "cell_type": "markdown",
   "metadata": {},
   "source": [
    "# Blatt 8, Aufgabe 2\n",
    "## Gruppe AC\n",
    "__Aufgabenteil 1:__"
   ]
  },
  {
   "cell_type": "code",
   "execution_count": 1,
   "metadata": {},
   "outputs": [],
   "source": [
    "import numpy as np\n",
    "import matplotlib.pyplot as plt\n",
    "\n",
    "def error(w):\n",
    "    E = -2*(w+5)**2 + (w-6)**3\n",
    "    return E\n",
    "\n",
    "def error_grad(w):\n",
    "    dE = -4*(w+5) + 3*(w-6)**2\n",
    "    return dE\n",
    "\n",
    "def adaptive(eta, beta, iterations):\n",
    "    #w    = np.zeros((1,11)) \n",
    "    #w[0] = 4\n",
    "    w = []\n",
    "    w.append(4)\n",
    "    s = []\n",
    "    s.append(3)\n",
    "    E = []\n",
    "    \n",
    "    eps = 10**-8\n",
    "    \n",
    "    for i in range(10):\n",
    "        dE = error_grad(w[-1])\n",
    "        s.append(beta*s[-1] + (1-beta)*dE**2)\n",
    "        w.append(w[-1] - eta*dE/np.sqrt(s[-1]+eps))\n",
    "        E.append(error(w[-1]))\n",
    "    return E,w"
   ]
  },
  {
   "cell_type": "code",
   "execution_count": 2,
   "metadata": {},
   "outputs": [
    {
     "data": {
      "text/plain": [
       "(-400, -100)"
      ]
     },
     "execution_count": 2,
     "metadata": {},
     "output_type": "execute_result"
    },
    {
     "data": {
      "image/png": "[encoded data removed]",
      "text/plain": [
       "<Figure size 432x288 with 1 Axes>"
      ]
     },
     "metadata": {
      "needs_background": "light"
     },
     "output_type": "display_data"
    }
   ],
   "source": [
    "eta = 0.5\n",
    "beta = 0.9\n",
    "E, w = adaptive(eta,beta,10)\n",
    "\n",
    "plt.figure(1)  \n",
    "plt.plot(w[1:], E, 'o') \n",
    "# Never forget to label your data and describe your axes\n",
    "plt.legend(('Updates'))\n",
    "plt.xlabel('w')\n",
    "plt.ylabel('Error')\n",
    "plt.title('beta=0.9');\n",
    "plt.grid(True)\n",
    "axes = plt.gca()\n",
    "axes.set_xlim([0,15])\n",
    "axes.set_ylim([-400,-100])"
   ]
  },
  {
   "cell_type": "markdown",
   "metadata": {},
   "source": [
    "__Aufgabenteil 2:__ <br>\n",
    "![title](table1.png) <br>\n",
    "\n"
   ]
  },
  {
   "cell_type": "markdown",
   "metadata": {},
   "source": [
    "Wird der Gradient verschwindend klein und ist der Wurzelterm größer Eins, ist der Quotient aus diesen beiden Werten sehr klein. Das neue Gewicht wird kaum verändert. In der folgenden Iteration wird der Wert für s(t) fast ausschließlich durch Skalierung des alten s(t) neu bestimmt. \n",
    "Ist der Gradient verschwindend klein und ist der Wurzelterm kleiner Eins, wird der Quotient aus diesen beiden Werten "
   ]
  },
  {
   "cell_type": "markdown",
   "metadata": {},
   "source": [
    "__Aufgabenteil 3:__ <br>\n",
    "a) $w(t) = w(t-1) - \\frac{\\eta}{\\nabla E(w(t-1))}$ <br>"
   ]
  },
  {
   "cell_type": "code",
   "execution_count": 12,
   "metadata": {},
   "outputs": [
    {
     "data": {
      "text/plain": [
       "(-400, -100)"
      ]
     },
     "execution_count": 12,
     "metadata": {},
     "output_type": "execute_result"
    },
    {
     "data": {
      "image/png": "[encoded data removed]",
      "text/plain": [
       "<Figure size 432x288 with 1 Axes>"
      ]
     },
     "metadata": {
      "needs_background": "light"
     },
     "output_type": "display_data"
    }
   ],
   "source": [
    "beta = 0\n",
    "E2, w2 = adaptive(eta,beta,10)\n",
    "\n",
    "plt.figure(1)  \n",
    "plt.plot(w2[1:], E2, 'o') \n",
    "# Never forget to label your data and describe your axes\n",
    "plt.legend(('Updates'))\n",
    "plt.xlabel('w')\n",
    "plt.ylabel('Error')\n",
    "plt.title('beta=0');\n",
    "plt.grid(True)\n",
    "axes = plt.gca()\n",
    "axes.set_xlim([0,15])\n",
    "axes.set_ylim([-400,-100])"
   ]
  },
  {
   "cell_type": "markdown",
   "metadata": {},
   "source": [
    "b) Die Informationen des vorherigen Gradienten gehen verloren und es wird nur noch der aktuelle Gradient betrachtet. Das Ergebnis hängt weiterhin kaum von der betragsmäßigen Größe des Gradientens, sondern hauptsächlich von dessen Vorzeichen ab. Der Fehler verhält sich nun linear zum Anstieg von w. Dies passt zur linearen Gleichung, die aus (2) mit beta=0 resultiert.<br>\n",
    "c) ??? <br>\n",
    "d) MLP? "
   ]
  },
  {
   "cell_type": "markdown",
   "metadata": {},
   "source": [
    "__Aufgabenteil 4:__ <br>\n",
    "a) \n",
    "\\begin{align*}\n",
    "s(2) &= \\nabla E(1)^2 = g_2^2 = 4 \\\\\n",
    "C_a(-2,2) &= \\left\\vert \\frac{2}{\\sqrt{s(2)}} \\right\\vert- |g_2| \\\\\n",
    "          &= \\left\\vert \\frac{2}{\\sqrt{4}} \\right\\vert - 2 = -1\n",
    "\\end{align*} <br>\n",
    "b) \n",
    "Die roten Regionen zeigen, wo der Gradient $g_2$ vergrößert wird ($C_a>0$). In den blauen Regionen wird der Gradient $g_2$ verkleinert ($C_a<0$). \n",
    "Ist $\\beta=0$, ist der Zusammenhang zwischen $\\left\\vert g_2/\\sqrt{s(2)} \\right\\vert$ und $g_2$ nahezu linear, sodass der Betrag des Gradienten beinahe unberücksichtigt bleibt. Mit steigendem Beta wird $C_a$ immer größer für kleine Gradienten.\n",
    "<br>\n",
    "Sind die Gradienten beide sehr klein, ist $C_a$ entsprechend groß, sodass Plateaus des Fehlers schnell verlassen werden können und das Problem mit kleinen Gradienten überwunden wird. Ist mindestens einer beiden Gradienten groß, wird $C_a$ klein, sodass eine zu große Schrittweite vermieden werden kann. \n"
   ]
  },
  {
   "cell_type": "markdown",
   "metadata": {},
   "source": [
    "__Aufgabenteil 5:__<br>\n",
    "a) Mit zunehmender Größe von beta werden vorherige Skalierungen s miteinbezogen, wodurch die Kurve breiter wird. Im Kontrast dazu ist für beta=0 der Verlauf unabängig von vorherigen Skalierungen s und ausschließlich abhängig vom Gradienten des vorherigen Schrittes. <br>\n",
    "\n",
    "b) Die s2-Kurve läuft größtenteils über der s1-Kurve, weil deren Gradient größer ist und dieser daher einer höheren Skalierung bedarf..<br>\n",
    "\n",
    "c) ??? Vgl Christian <br>\n",
    "\n",
    "d) neue initiale Position: (8.75,2.86)"
   ]
  },
  {
   "cell_type": "code",
   "execution_count": null,
   "metadata": {},
   "outputs": [],
   "source": []
  }
 ],
 "metadata": {
  "kernelspec": {
   "display_name": "Python 3",
   "language": "python",
   "name": "python3"
  },
  "language_info": {
   "codemirror_mode": {
    "name": "ipython",
    "version": 3
   },
   "file_extension": ".py",
   "mimetype": "text/x-python",
   "name": "python",
   "nbconvert_exporter": "python",
   "pygments_lexer": "ipython3",
   "version": "3.7.3"
  }
 },
 "nbformat": 4,
 "nbformat_minor": 2
}
