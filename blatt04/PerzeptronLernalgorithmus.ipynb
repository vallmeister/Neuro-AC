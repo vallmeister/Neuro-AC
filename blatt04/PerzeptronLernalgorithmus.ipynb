{
 "cells": [
  {
   "cell_type": "markdown",
   "metadata": {},
   "source": [
    "# Perzeptron-Lernalgorithmus"
   ]
  },
  {
   "cell_type": "code",
   "execution_count": 9,
   "metadata": {},
   "outputs": [],
   "source": [
    "import numpy as np\n",
    "import matplotlib.pyplot as plt\n",
    "import ipywidgets as widgets\n",
    "from ipywidgets import interact\n",
    "from IPython.display import display"
   ]
  },
  {
   "cell_type": "code",
   "execution_count": 10,
   "metadata": {},
   "outputs": [
    {
     "data": {
      "text/plain": [
       "(10, 3)"
      ]
     },
     "execution_count": 10,
     "metadata": {},
     "output_type": "execute_result"
    }
   ],
   "source": [
    "data = np.array([[-3, 1, -1], \n",
    "                 [-3, 3, 1], \n",
    "                 [-2, 1, -1], \n",
    "                 [-2, 4, 1], \n",
    "                 [-1, 3, 1], \n",
    "                 [-1, 4, 1], \n",
    "                 [2, 2, -1], \n",
    "                 [2, 4, 1], \n",
    "                 [3, 2, -1], \n",
    "                 [4, 1, -1]])\n",
    "data.shape"
   ]
  },
  {
   "cell_type": "markdown",
   "metadata": {},
   "source": [
    "## Teil 1: Implementierung"
   ]
  },
  {
   "cell_type": "code",
   "execution_count": 11,
   "metadata": {},
   "outputs": [],
   "source": [
    "weight_vector = np.zeros(3, dtype=np.float32)\n",
    "weight_vectors = []\n",
    "eta = 1\n",
    "change = True\n",
    "\n",
    "while change:\n",
    "    change = False\n",
    "    for i in range(len(data)):\n",
    "        #add an element for the bias to the data value\n",
    "        x = np.concatenate(([1], data[i][0:2]))\n",
    "        #Lernschritt\n",
    "        if data[i][-1] == 1 and np.dot(weight_vector, x) < 0:\n",
    "            weight_vector = weight_vector + eta * x\n",
    "            change = True\n",
    "        elif data[i][-1] == -1 and np.dot(weight_vector, x) >= 0:\n",
    "            weight_vector = weight_vector - eta * x\n",
    "            change = True\n",
    "        weight_vectors += [weight_vector]"
   ]
  },
  {
   "cell_type": "markdown",
   "metadata": {},
   "source": [
    "## Teil 2: Darstellung"
   ]
  },
  {
   "cell_type": "code",
   "execution_count": 12,
   "metadata": {},
   "outputs": [
    {
     "data": {
      "application/vnd.jupyter.widget-view+json": {
       "model_id": "caea96f1f2fe49f2b5bd57394840d375",
       "version_major": 2,
       "version_minor": 0
      },
      "text/plain": [
       "interactive(children=(IntSlider(value=0, description='step', max=49), Output()), _dom_classes=('widget-interac…"
      ]
     },
     "metadata": {},
     "output_type": "display_data"
    },
    {
     "data": {
      "text/plain": [
       "<function __main__.display(i)>"
      ]
     },
     "execution_count": 12,
     "metadata": {},
     "output_type": "execute_result"
    }
   ],
   "source": [
    "def display(i):\n",
    "    plt.figure(figsize=(8, 8))\n",
    "    \n",
    "    #plot points of both classes\n",
    "    w1 = [x for x in data if x[-1] == 1]\n",
    "    w_1 = [x for x in data if x[-1] == -1]\n",
    "    plt.scatter([x[0] for x in w1], [y[1] for y in w1], c = 'b', label = '$w_1$')\n",
    "    plt.scatter([x[0] for x in w_1], [y[1] for y in w_1], c = 'g', label = '$w_{-1}$')\n",
    "\n",
    "    #mark the last checked point\n",
    "    j = i % 10\n",
    "    if data[j][-1] == 1:\n",
    "        col = 'b'\n",
    "    else:\n",
    "        col = 'g'\n",
    "    plt.scatter(data[j][0], data[j][1], s = 100, marker = 'P', c = col, label = 'processed point')\n",
    "\n",
    "    #Separierungslinie\n",
    "    x = range(-5, 6)\n",
    "    if weight_vectors[i][2] == 0.0:\n",
    "        plt.axvline(x = 0)\n",
    "    else:\n",
    "        plt.plot(x, (-weight_vectors[i][0] - weight_vectors[i][1] * x) / weight_vectors[i][2], c = 'k', label = 'separation line')\n",
    "\n",
    "    #Gewichtsvektor w\n",
    "    plt.quiver(0, 0, weight_vectors[i][1], weight_vectors[i][2], scale = 20, color = 'r', label = '$w$')\n",
    "\n",
    "    #mark areas\n",
    "    if weight_vectors[i][2] == 0.0:\n",
    "        plt.axvspan(-5, 0, alpha = 0.2, color = 'b', label = '$w^Tx \\geq 0$')\n",
    "        plt.axvspan(0, 5, alpha = 0.3, color = 'g', label = '$w^Tx < 0$')\n",
    "    else:\n",
    "        plt.fill_between(x, (-weight_vectors[i][0] - weight_vectors[i][1] * x) / weight_vectors[i][2], [5] * len(x), alpha = 0.2, \n",
    "                     color = 'b', label = '$w^Tx \\geq 0$')\n",
    "        plt.fill_between(x, [-5] * len(x), (-weight_vectors[i][0] - weight_vectors[i][1] * x) / weight_vectors[i][2], alpha = 0.3, \n",
    "                     color = 'g', label = '$w^Tx < 0$')\n",
    "\n",
    "    #Legend\n",
    "    plt.legend()\n",
    "\n",
    "    plt.xlabel('$x_1$')\n",
    "    plt.xlim(-5, 5)\n",
    "    plt.ylabel('$x_2$')\n",
    "    plt.ylim(-5, 5)\n",
    "    plt.title('step = %i, $w_0$ = %i, $w$ = (%i, %i)' % (i, weight_vectors[i][0], weight_vectors[i][1], weight_vectors[i][2]))\n",
    "    plt.show()\n",
    "\n",
    "#interaction\n",
    "interact(display, i = widgets.IntSlider(min = 0, max = len(weight_vectors) - 1, description = 'step'))"
   ]
  }
 ],
 "metadata": {
  "kernelspec": {
   "display_name": "Python 3",
   "language": "python",
   "name": "python3"
  },
  "language_info": {
   "codemirror_mode": {
    "name": "ipython",
    "version": 3
   },
   "file_extension": ".py",
   "mimetype": "text/x-python",
   "name": "python",
   "nbconvert_exporter": "python",
   "pygments_lexer": "ipython3",
   "version": "3.7.0"
  }
 },
 "nbformat": 4,
 "nbformat_minor": 2
}
