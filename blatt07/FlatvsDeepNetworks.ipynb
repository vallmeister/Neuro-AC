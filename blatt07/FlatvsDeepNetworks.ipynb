{
 "cells": [
  {
   "cell_type": "markdown",
   "metadata": {},
   "source": [
    "# Einführung in die Neuroinformatik - Blatt07"
   ]
  },
  {
   "cell_type": "markdown",
   "metadata": {},
   "source": [
    "### *Gruppe AC*"
   ]
  },
  {
   "cell_type": "markdown",
   "metadata": {},
   "source": [
    "**Aufgabe 2**"
   ]
  },
  {
   "cell_type": "markdown",
   "metadata": {},
   "source": [
    "1.\n",
    "a)\n",
    "Für die Neuronen in der 1. Zwischenschicht ergibt sich:  \n",
    "$x_1 * 1 + y_1 * 1 = 1 \\Rightarrow y_{11} = 0$  \n",
    "$x_2 * 1 + y_2 * 1 = 1 \\Rightarrow y_{12} = 0$  \n",
    "Für die Neuronen in der 2. Zwischenschicht ergibt sich:  \n",
    "$y_{11} *1 + y_{12} * 1 = 0 \\Rightarrow y_{21} = y_{22} = 0$  \n",
    "Somit erhält man insgesamt: $f(x, y) = y_{21} * 1 + y_{22} * (-1) = 0$  \n",
    "Dieses Ergebnis entspricht dem erwarteten Ergebnis aus Gleichung 4."
   ]
  },
  {
   "cell_type": "markdown",
   "metadata": {},
   "source": [
    "![Erweitertes Netzwerk für $n = 3$](1b.jpg)"
   ]
  },
  {
   "cell_type": "markdown",
   "metadata": {},
   "source": [
    "c) Die Neuronen aus der 1. Zwischenschicht sind AND-Neuronen und berechnen $x_iy_i$, die Neuronen aus der 2. Zwischenschicht summieren dann die Ergebnisse aus der ersten Zwischenschicht auf, sodass das im Ausgabeneuron auf gerade oder ungerade überprüft werden kann."
   ]
  },
  {
   "cell_type": "markdown",
   "metadata": {},
   "source": [
    "2."
   ]
  },
  {
   "cell_type": "markdown",
   "metadata": {},
   "source": [
    "a) Schwellwertneuronen können nicht verwendet werden, da die Ableitung der Aktivierungsfunktion benötigt wird und diese für Schwellwertneuronen nicht definiert ist."
   ]
  },
  {
   "cell_type": "code",
   "execution_count": 21,
   "metadata": {},
   "outputs": [],
   "source": [
    "import itertools\n",
    "import numpy as np\n",
    "import tensorflow as tf\n",
    "import tensorflow.keras as keras\n",
    "import matplotlib.pyplot as plt"
   ]
  },
  {
   "cell_type": "code",
   "execution_count": 22,
   "metadata": {},
   "outputs": [],
   "source": [
    "#Ermittlung aller möglichen Binärkombinationen und der zugehörigen Lehrersignale\n",
    "\n",
    "def getBinaryCombinations(n):\n",
    "    return list(itertools.product([0, 1], repeat = n))\n",
    "\n",
    "def getT(x, y):\n",
    "    return np.dot(x, y) % 2\n",
    "\n",
    "def getData(n):\n",
    "    x = getBinaryCombinations(n)\n",
    "    y = getBinaryCombinations(n)\n",
    "    \n",
    "    data = []\n",
    "    labels = []\n",
    "    for i in range(len(x)):\n",
    "        for j in range(len(y)):\n",
    "            T = getT(x[i], y[j])\n",
    "            \n",
    "            #replace all 0 by -1\n",
    "            xnew = np.array([-1.0 if x == 0 else 1.0 for x in x[i]])\n",
    "            ynew = np.array([-1.0 if y == 0 else 1.0 for y in y[j]])\n",
    "            Tnew = -1 if T == 0 else 1\n",
    "            \n",
    "            data.append(np.concatenate((xnew, ynew)))\n",
    "            labels.append(Tnew)\n",
    "    \n",
    "    return np.asarray(data), np.asarray(labels)"
   ]
  },
  {
   "cell_type": "code",
   "execution_count": 23,
   "metadata": {},
   "outputs": [],
   "source": [
    "def train_network(n_hidden):\n",
    "    \n",
    "    # Start fresh and at least try to get reproducible results\n",
    "    tf.reset_default_graph()\n",
    "    K.clear_session()\n",
    "    tf.set_random_seed(42)\n",
    "    np.random.seed(42)\n",
    "    \n",
    "    model = keras.models.Sequential()\n",
    "    \n",
    "    for i in range(len(n_hidden)):\n",
    "        model.add(keras.layers.Dense(n_hidden[i], activation = 'tanh', \n",
    "                                        kernel_initializer = keras.initializers.RandomUniform(-0.5, 0.5), \n",
    "                                        bias_initializer = keras.initializers.RandomUniform(-0.5, 0.5)))\n",
    "        \n",
    "    model.compile(optimizer = keras.optimizers.SGD(lr=0.2, decay=0.0001, momentum=0.9, nesterov=True),\n",
    "                 loss = 'mean_squared_error', metrics = ['accuracy'])\n",
    "                  \n",
    "    n = 3\n",
    "    data, labels = getData(n)\n",
    "    train_history = model.fit(data, labels, epochs = 300, verbose = 0)\n",
    "    \n",
    "    loss = train_history.history['loss']\n",
    "    \n",
    "    return min(loss)    "
   ]
  },
  {
   "cell_type": "code",
   "execution_count": 24,
   "metadata": {},
   "outputs": [],
   "source": [
    "#Simulation\n",
    "\n",
    "#flat network\n",
    "mse_flat = []\n",
    "for i in range(1, 13):\n",
    "    mse_flat += [train_network([i])]\n",
    "    \n",
    "#deep network\n",
    "mse_deep = []\n",
    "for i in range(1, 8):\n",
    "    mse_deep += [train_network([i, i])]"
   ]
  },
  {
   "cell_type": "code",
   "execution_count": 25,
   "metadata": {},
   "outputs": [
    {
     "data": {
      "image/png": "[encoded data removed]",
      "text/plain": [
       "<Figure size 432x288 with 1 Axes>"
      ]
     },
     "metadata": {
      "needs_background": "light"
     },
     "output_type": "display_data"
    }
   ],
   "source": [
    "#Plot\n",
    "plt.figure()\n",
    "plt.plot([x for x in range(1, 13)], mse_flat, label = 'Flat hierarchy')\n",
    "plt.plot([2 * x for x in range(1, 8)], mse_deep, label = 'Deep hierarchy')\n",
    "plt.legend()\n",
    "plt.xlabel('Total number of neurons')\n",
    "plt.ylabel('MSE')\n",
    "plt.grid()\n",
    "plt.show()"
   ]
  },
  {
   "cell_type": "markdown",
   "metadata": {},
   "source": [
    "3. Für geringe $n$ sind flache Netzwerke noch besser geeignet, da sie einen geringeren Fehler mit weniger Neuronen erzeugen können. Für höhere Dimensionen sind jedoch tiefe Netzwerke empfehlenswert, da sie mit deutlich geringerem Aufwand die besseren Ergebnisse erzielen.  \n",
    "Diese Beobachtung entspricht auch der Gleichung (5), da für kleine Dimensionen der Overhead bei $net_d$ größer ist, für größere Dimensionen überwiegt jedoch das exponentielle Wachstum."
   ]
  }
 ],
 "metadata": {
  "kernelspec": {
   "display_name": "Python 3",
   "language": "python",
   "name": "python3"
  },
  "language_info": {
   "codemirror_mode": {
    "name": "ipython",
    "version": 3
   },
   "file_extension": ".py",
   "mimetype": "text/x-python",
   "name": "python",
   "nbconvert_exporter": "python",
   "pygments_lexer": "ipython3",
   "version": "3.7.0"
  }
 },
 "nbformat": 4,
 "nbformat_minor": 2
}
