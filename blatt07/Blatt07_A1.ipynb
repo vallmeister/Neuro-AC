{
 "cells": [
  {
   "cell_type": "markdown",
   "metadata": {},
   "source": [
    "# Blatt 7, Aufgabe 1\n",
    "## Gruppe AC"
   ]
  },
  {
   "cell_type": "markdown",
   "metadata": {},
   "source": [
    "__Teilaufgabe 1a)__ <br>\n",
    "$w_2 = 0.6 \\quad b_2 = 0.9$ <br>\n",
    "\\begin{align*}\n",
    "\\frac{\\partial E}{\\partial b_2}  \n",
    "&= -2\\cdot(T- f(w_2y_1 + b_2))\\cdot f'(w_2y_1+b_2) \\\\\n",
    "&= -2\\cdot(T- f(w_2y_1 + b_2))\\cdot \\left[ f(w_2y_1+b_2) (1-f(w_2y_1+b_2) \\right] \\\\\n",
    "&= -2\\cdot(0- f(0.6\\cdot 1 + 0.9)) \\cdot \\left[ f(0.6\\cdot 1+0.9) (1- f(0.6\\cdot 1+0.9)\\right] \\\\\n",
    "&= -2\\cdot \\left( -\\frac{1}{1+\\exp(-1.5)} \\right) \\cdot \\left[ \\frac{1}{1+ \\exp(-1.5)} \\cdot \\left( 1- \\frac{1}{1+\\exp(-1.5)} \\right) \\right] \\\\\n",
    "&= 0.2439\n",
    "\\end{align*}\n",
    "\n",
    "<br>__Teilaufgabe 1b)__  <br>\n",
    "$w_2 = b_2 = 2$ <br>\n",
    "\\begin{align*}\n",
    "\\frac{\\partial E}{\\partial b_2}  \n",
    "    &= -2\\cdot(0- f(2.0\\cdot 1 + 2.0)) \\cdot \\left[ f(2.0\\cdot 1+2.0) (1- f(2.0\\cdot 1+2.0)\\right] \\\\\n",
    "    &= -2\\cdot \\left( -\\frac{1}{1+\\exp(-4.0)} \\right) \\cdot \\left[ \\frac{1}{1+ \\exp(-4.0)} \\cdot \\left( 1- \\frac{1}{1+\\exp(-4.0)} \\right) \\right] \\\\\n",
    "    &= 0.0347\n",
    "\\end{align*}  \n",
    "\n",
    "<br> __Teilaufgabe 1c)__ <br>\n",
    "Im letzten Fall wird in den ersten 150 Epochen der Fehler nur schlecht korrigiert, d.h. es findet nur sehr langsames Lernen statt. Die liegt an der Ableitung der Sogmoid-Funktion. Die Abelitung von $f(u_2)$ ist in diesem Fall sehr klein, sodass auch $\\frac{\\partial E}{\\partial b_2}$ sehr klein wird. "
   ]
  },
  {
   "cell_type": "markdown",
   "metadata": {},
   "source": [
    "__Teilaufgabe 2a)__ <br>\n",
    "\\begin{align*}\n",
    "\\frac{\\partial E}{\\partial b_1}\n",
    "&= \\frac{\\partial E}{\\partial y_2}\\cdot\\frac{\\partial y_2}{\\partial u_2}\\cdot\\frac{\\partial u_2}{\\partial y_1}\\cdot\\frac{\\partial y_1}{\\partial u_1}\\cdot\\frac{\\partial u_1}{\\partial b_1} \\\\\n",
    "&= -2\\cdot(T-y_1) \\cdot f'(u_2) \\cdot w_2 \\cdot f'(u_1) \n",
    "\\end{align*}\n",
    "<br>\n",
    "Das Problem wird verstärkt, weil nun zusätzlich noch eine weitere Ableitung der Sigmoid-Funktion eingeht und das $w_2$, dass nur langsam angepasst wird.\n",
    "\n",
    "<br> __Teilaufgabe 2b)__ <br>\n",
    "Das Problem würde immer schlimmer werden.\n",
    "\n",
    "<br> __Teilaufgabe 2c)__ <br>\n",
    "Durch die niedrigen Werte der Ableitung steigt man auch in den Funktionswerten nur langsam ab, sodass man viele Schritte braucht, bis man bei einem lokalen Minimum angekommen ist."
   ]
  },
  {
   "cell_type": "markdown",
   "metadata": {},
   "source": [
    "__Teilaufgabe 3a)__ <br>\n",
    "\\begin{align*}\n",
    "\\frac{\\partial E}{\\partial b_1} &= -2\\cdot(T-y_1) \\cdot f'(u_2) \\cdot w_2 \\cdot f'(u_1) \\\\\n",
    "                                &= -2\\cdot(0-f(w_1x+b_1)) \\cdot f'(w_2y_1+b_2) \\cdot w_2 \\cdot f'(w_1x+b_1) \\\\\n",
    "                                &= -2\\cdot(-f(100-100))\\cdot f'(100\\cdot f(100 -100)-50) \\cdot 100 \\cdot f'(100 - 100) \\\\\n",
    "                                &= -2\\cdot(-f(0)) \\cdot f'(100\\cdot f(0) -50) \\cdot 100\\cdot f'(0) \\\\\n",
    "                                &= 6.25 \\\\\n",
    "\\frac{\\partial E}{\\partial b_2} &= -2\\cdot(T- f(w_2y_1 + b_2))\\cdot f'(w_2y_1+b_2) \\\\           \n",
    "                                &= -2\\cdot(-f(100\\cdot f(100-100) -50)) \\cdot f'(100\\cdot f(100-100) -50) \\\\\n",
    "                                &= -2\\cdot(-f(100\\cdot f(0) -50) \\cdot f'(100 \\cdot f(0) -50) \\\\\n",
    "                                &= 0.25\n",
    "\\end{align*}\n",
    "\n",
    "<br> __Teilaufgabe 3b)__ <br>\n",
    "Für die folgendend $b_i$ würde die Ableitung von E nach b immer kleiner werden."
   ]
  },
  {
   "cell_type": "code",
   "execution_count": null,
   "metadata": {},
   "outputs": [],
   "source": []
  }
 ],
 "metadata": {
  "kernelspec": {
   "display_name": "Python 3",
   "language": "python",
   "name": "python3"
  },
  "language_info": {
   "codemirror_mode": {
    "name": "ipython",
    "version": 3
   },
   "file_extension": ".py",
   "mimetype": "text/x-python",
   "name": "python",
   "nbconvert_exporter": "python",
   "pygments_lexer": "ipython3",
   "version": "3.7.3"
  }
 },
 "nbformat": 4,
 "nbformat_minor": 2
}
