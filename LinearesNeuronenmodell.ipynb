{
 "cells": [
  {
   "cell_type": "markdown",
   "metadata": {},
   "source": [
    "## **Lineares Neuronenmodell**\n",
    "#### *Einführung in die Neuroinformatik - Blatt 1*  \n",
    "  \n",
    " Gruppe AC - 14.05.2019"
   ]
  },
  {
   "cell_type": "markdown",
   "metadata": {},
   "source": [
    "**Aufgabe 1**\n",
    "\n",
    "Die Differentialgleichungen für das dendritische Potential der beiden Neuronen lauten  \n",
    "> $\\dot{u}_1(t) = \\frac{1}{\\tau} \\left( -u_1(t) + x_1(t)\\right)$  \n",
    "$\\dot{u}_2(t) = \\frac{1}{\\tau} \\left(-u_2(t) + c_{12}(t) u_1(t) \\right)$"
   ]
  },
  {
   "cell_type": "markdown",
   "metadata": {},
   "source": [
    "**Aufgabe 2**\n",
    "  \n",
    "Aus der Differentialgleichung ergibt sich für Neuron 1:\n",
    "> $0 = \\frac{1}{\\tau}(-u_1(t) + x_1(t)) \\Leftrightarrow u_1(t) = x_1(t) \\leq 1$\n",
    "\n",
    "Somit kann das Potential des ersten Neurons maximal so groß werden wie der externe Input $x_1(t)$, es hat also ein Maximum von $1$.  \n",
    "  \n",
    "Äquivalen erhält man für Neuron 2:  \n",
    "> $0 = \\frac{1}{\\tau}(-u_2(t) + c_{12}u_1(t)) \\Leftrightarrow u_2(t) = c_{12}x_1(t) \\leq c_{12}$\n",
    "\n",
    "Somit kann das Potential des zweiten Neurons maximal so groß werden wie das Gewicht $c_{12}$."
   ]
  },
  {
   "cell_type": "markdown",
   "metadata": {},
   "source": [
    "**Aufgabe 3**"
   ]
  },
  {
   "cell_type": "code",
   "execution_count": 4,
   "metadata": {},
   "outputs": [],
   "source": [
    "import numpy as np\n",
    "\n",
    "def x1(t):\n",
    "    if t >= 5 and t <= 15:\n",
    "        return 1\n",
    "    else:\n",
    "        return 0\n",
    "\n",
    "def lin_model(tau, weight):\n",
    "    \n",
    "    #Initialize vectors\n",
    "    delta_t = 0.1\n",
    "    t = np.arange(0, 30.1, delta_t)\n",
    "\n",
    "    u1 = [0]\n",
    "    u2 = [0]\n",
    "    du1 = [1/tau * (-u1[0] + x1(0))]\n",
    "    du2 = [1/tau * (-u2[0] + weight * u1[0])]\n",
    "    \n",
    "    #Approximation\n",
    "    for i in range(1, len(t)):\n",
    "        u1 += [u1[i-1] + delta_t * du1[i-1]]\n",
    "        u2 += [u2[i-1] + delta_t * du2[i-1]]\n",
    "        \n",
    "        du1 += [1/tau * (-u1[i] + x1(t[i]))]\n",
    "        du2 += [1/tau * (-u2[i] + weight * u1[i])]\n",
    "        \n",
    "    return [t, du1, du2, u1, u2]"
   ]
  },
  {
   "cell_type": "markdown",
   "metadata": {},
   "source": [
    "**Aufgabe 4**"
   ]
  },
  {
   "cell_type": "code",
   "execution_count": 6,
   "metadata": {},
   "outputs": [
    {
     "data": {
      "application/vnd.jupyter.widget-view+json": {
       "model_id": "7dea6f71460740eab00dfcbd75546a27",
       "version_major": 2,
       "version_minor": 0
      },
      "text/plain": [
       "interactive(children=(FloatSlider(value=0.5, description='tau', max=3.0, min=0.1), FloatSlider(value=0.5, desc…"
      ]
     },
     "metadata": {},
     "output_type": "display_data"
    },
    {
     "data": {
      "text/plain": [
       "<function __main__.plot_model(tau, weight)>"
      ]
     },
     "execution_count": 6,
     "metadata": {},
     "output_type": "execute_result"
    }
   ],
   "source": [
    "import matplotlib.pyplot as plt\n",
    "from ipywidgets import interact\n",
    "import ipywidgets as widgets\n",
    "\n",
    "def plot_model(tau, weight):\n",
    "    [t, du1, du2, u1, u2] = lin_model(tau, weight)\n",
    "    \n",
    "    fig, (ax1, ax2) = plt.subplots(1, 2, figsize = (12, 5))\n",
    "    \n",
    "    ax1.plot(t, u1, 'b', label = 'Neuron $u_1$')\n",
    "    ax1.plot(t, u2, 'r', label = 'Neuron $u_2$')\n",
    "    ax1.set_xlabel('t')\n",
    "    ax1.set_ylabel('Potential of $u_i$')\n",
    "    ax1.legend(loc = 'upper right')\n",
    "    \n",
    "    ax2.plot(t, du1, 'b', label = 'Neuron $u_1$')\n",
    "    ax2.plot(t, du2, 'r', label = 'Neuron $u_2$')\n",
    "    ax2.set_xlabel('t')\n",
    "    ax2.set_ylabel('Derivative of potential of $u_i$')\n",
    "    ax2.legend()\n",
    "    \n",
    "    plt.tight_layout()\n",
    "    plt.show()\n",
    "    \n",
    "interact(plot_model, tau = widgets.FloatSlider(min = 0.1, max = 3, step = 0.1, value = 0.5, description = 'tau'), \n",
    "         weight = widgets.FloatSlider(min = 0.1, max = 3, step = 0.1, value = 0.5, description = 'weight'))"
   ]
  },
  {
   "cell_type": "markdown",
   "metadata": {},
   "source": [
    "**Aufgabe 5**\n",
    "  \n",
    "a) Die Funktionswerte fallen bei $t = 15$ ab, da ab diesem Zeitpunkt kein externer Input mehr vorhanden ist und somit kein Signal von der Nervenzelle mehr ausgesendet werden soll.  \n",
    "  \n",
    "b) Die Zeitkonstante $\\tau$ hat Einfluss auf die Steigung des Potentials und somit auf dessen Ableitung. Je kleiner $\\tau$ ist, desto steiler ist der Anstieg beziehungsweise Abfall des Potentials.  \n",
    "Für $\\tau < 1$ gilt:  \n",
    "Der Anstieg des Potentials bei $t = 5$ und der Abfall bei $t = 15$ sind sehr steil.  \n",
    "Für $\\tau > 1$ gilt:  \n",
    "Anstieg und Abfall sind geglättet und verlaufen weniger abrupt.  \n",
    "  \n",
    "Dieser Zusammenhang kann direkt in den Differentialgleichungen aus Aufgabe 1 erkannt werden.  \n",
    "  \n",
    "c) Die Potentiale $u_1(t)$ und $u_2(t)$ sind dann stückweise konstant, da sich die Gleichungen zu  \n",
    "> $u_1(t) = x_1(t)$  \n",
    "$u_2(t) = c_{12}u_1(t)$  \n",
    "\n",
    "vereinfachen.  \n",
    "  \n",
    "d) Das Gewicht $c_{12}$ beeinflusst die Stärke des Potentials am Neuron 2, da es die synaptische Kopplungsstärke zwischen den beiden Neuronen beschreibt und somit die Stärke des Signals das von Neuron 1 zu Neuron 2 weitergeleitet wird.  \n",
    "  \n",
    "e) Der Graph von $u_2(t)$ wäre um den Wert $d_{12}$ auf der Zeitachse nach rechts verschoben, da das Signal von Neuron 1 durch die Übertragungszeit erst mit einer gewissen Verzögerung beim zweiten Neuron ankommt."
   ]
  }
 ],
 "metadata": {
  "kernelspec": {
   "display_name": "Python 3",
   "language": "python",
   "name": "python3"
  },
  "language_info": {
   "codemirror_mode": {
    "name": "ipython",
    "version": 3
   },
   "file_extension": ".py",
   "mimetype": "text/x-python",
   "name": "python",
   "nbconvert_exporter": "python",
   "pygments_lexer": "ipython3",
   "version": "3.7.0"
  }
 },
 "nbformat": 4,
 "nbformat_minor": 2
}
