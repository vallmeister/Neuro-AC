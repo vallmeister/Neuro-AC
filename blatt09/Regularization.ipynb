{
 "cells": [
  {
   "cell_type": "markdown",
   "metadata": {},
   "source": [
    "# Regularization"
   ]
  },
  {
   "cell_type": "markdown",
   "metadata": {},
   "source": [
    "#### **Einführung in die Neuroinformatik - Blatt09**"
   ]
  },
  {
   "cell_type": "markdown",
   "metadata": {},
   "source": [
    "*Gruppe AC*"
   ]
  },
  {
   "cell_type": "markdown",
   "metadata": {},
   "source": [
    "**Teilaufgabe 1**"
   ]
  },
  {
   "cell_type": "markdown",
   "metadata": {},
   "source": [
    "a) Für den Gradienten der Fehlerfunktion erhält man:  \n",
    "> $\\nabla E(w(t)) = \\nabla E_0(w(t)) + \\frac{\\lambda}{2} \\sum_{l = 1}^L \\sum_i \\sum_j 2 * w_{ij}^{(l)} = \\nabla E_0(w(t)) + \\lambda \\sum_{l = 1}^L \\sum_i \\sum_j w_{ij}^{(l)}$  \n",
    "\n",
    "Somit ergibt sich für die Lernregel für ein einzelnes Gewicht:\n",
    "> $w(t+1) = w(t) - \\eta * \\nabla E(w(t)) = w(t) - \\eta * (\\nabla E_0(w(t)) + \\lambda w(t)) = (1 - \\eta \\lambda) w(t) - \\eta \\nabla E_0(w(t))$"
   ]
  },
  {
   "cell_type": "markdown",
   "metadata": {},
   "source": [
    "b)  \n",
    "i.  Es gilt:  \n",
    "> $w(10) = (1 - \\eta \\lambda)^{10} w(0) = (1 - 0.8 * 0.5)^{10} * 2 = 0.0121$\n",
    "\n",
    "ii. Das Gewicht nimmt exponentiell ab.  \n",
    "iii. Es gilt:\n",
    "> $ \\lim_{t \\to \\infty} w(t) = \\lim_{t \\to \\infty} (1 - \\eta \\lambda)^t w(0) = 0$\n",
    "\n",
    "da $(1 - \\eta \\lambda) < 1)$ ist.  \n",
    "iv. Gleichung (4) gilt nun nicht mehr notwendigerweise, da zwar der Term $(1- \\eta \\lambda)w(t)$ weiterhin verschwindet, dies jedoch für den Term $\\eta \\nabla E_0(w(t))$ nicht gelten muss."
   ]
  },
  {
   "cell_type": "markdown",
   "metadata": {},
   "source": [
    "c) Ja, es hilft das Problem aus Aufgabe 1 einzudämmen, da die Gewichte dann nicht mehr so groß werden."
   ]
  },
  {
   "cell_type": "markdown",
   "metadata": {},
   "source": [
    "**Teilaufgabe 2**"
   ]
  },
  {
   "cell_type": "markdown",
   "metadata": {},
   "source": [
    "Auf Blatt03 waren die Lernregeln gegeben durch:\n",
    "> $w(t+1) = w(t) + \\eta (T_{\\mu}-y(x_{\\mu})) f'(wx_{\\mu}+b)x_{\\mu}$  \n",
    "> $b(t+1) = b(t) + \\eta (T_{\\mu}-y(x_{\\mu})) f'(wx_{\\mu}+b)$  \n",
    "\n",
    "Man kann erkennen, dass in der Lernregel für den Bias der Faktor $x_{\\mu}$ wegfällt, weshalb der Bias weniger stark vom Input abhängt als die Gewichte."
   ]
  },
  {
   "cell_type": "markdown",
   "metadata": {},
   "source": [
    "**Teilaufgabe 3**"
   ]
  },
  {
   "cell_type": "markdown",
   "metadata": {},
   "source": [
    "<img src=\"aufgabe2_3.jpg\" width = \"300\" height = \"60\"/>"
   ]
  },
  {
   "cell_type": "markdown",
   "metadata": {},
   "source": [
    "**Teilaufgabe 4**"
   ]
  },
  {
   "cell_type": "code",
   "execution_count": 123,
   "metadata": {},
   "outputs": [],
   "source": [
    "import numpy as np\n",
    "import tensorflow as tf\n",
    "import matplotlib.pyplot as plt\n",
    "import tensorflow.keras as keras\n",
    "from tensorflow.keras import layers\n",
    "from tensorflow.keras import optimizers\n",
    "from tensorflow.keras import regularizers\n",
    "from sklearn.preprocessing import StandardScaler"
   ]
  },
  {
   "cell_type": "code",
   "execution_count": 124,
   "metadata": {},
   "outputs": [],
   "source": [
    "area = np.array([68.9, 40.5, 33.42, 73, 74.11, 76, 61.51, 52, 70, 76.6, 20, 32, 58, 45, 27, 33], np.float64)\n",
    "price = np.array([720, 520, 420, 955, 785, 897, 830, 670, 900, 885, 480, 620, 860, 550, 290, 320], np.float64)"
   ]
  },
  {
   "cell_type": "code",
   "execution_count": 125,
   "metadata": {},
   "outputs": [],
   "source": [
    "#Preprocessing\n",
    "scaler1 = StandardScaler()\n",
    "scaled_area = scaler1.fit_transform(area.reshape(-1, 1))\n",
    "scaler2 = StandardScaler()\n",
    "scaled_price = scaler2.fit_transform(price.reshape(-1, 1))"
   ]
  },
  {
   "cell_type": "code",
   "execution_count": 126,
   "metadata": {},
   "outputs": [],
   "source": [
    "def train_network(l2_reg):\n",
    "    \n",
    "    model = keras.Sequential([\n",
    "        layers.Dense(50, activation = 'tanh', kernel_regularizer = regularizers.l2(l = l2_reg)),\n",
    "        layers.Dense(1, activation = 'linear')])\n",
    "    \n",
    "    model.compile(optimizer = optimizers.Adam(lr = 0.1), loss = 'mean_squared_error')\n",
    "    \n",
    "    model.fit(scaled_area, scaled_price, epochs = 3000, verbose = 0)\n",
    "    \n",
    "    return model"
   ]
  },
  {
   "cell_type": "code",
   "execution_count": 127,
   "metadata": {},
   "outputs": [],
   "source": [
    "#train two models\n",
    "model1 = train_network(0)\n",
    "model2 = train_network(0.05)"
   ]
  },
  {
   "cell_type": "code",
   "execution_count": 129,
   "metadata": {},
   "outputs": [
    {
     "data": {
      "image/png": "[encoded data removed]",
      "text/plain": [
       "<Figure size 432x288 with 1 Axes>"
      ]
     },
     "metadata": {
      "needs_background": "light"
     },
     "output_type": "display_data"
    }
   ],
   "source": [
    "#test\n",
    "x = np.linspace(20, 80, 601, endpoint = True)\n",
    "scaled_x = scaler1.fit_transform(x.reshape(x.shape[0], -1))\n",
    "\n",
    "scaled_result1 = model1.predict(scaled_x)\n",
    "scaled_result2 = model2.predict(scaled_x)\n",
    "\n",
    "result1 = scaler2.inverse_transform(scaled_result1)\n",
    "result2 = scaler2.inverse_transform(scaled_result2)\n",
    "\n",
    "#plot\n",
    "plt.scatter(area, price, c = 'b', label = 'Data')\n",
    "plt.plot(x, result1, 'g', label = '$\\lambda$ = 0')\n",
    "plt.plot(x, result2, 'r', label = '$\\lambda$ = 0.05')\n",
    "plt.legend()\n",
    "plt.xlabel('Area')\n",
    "plt.ylabel('Price')\n",
    "plt.grid()"
   ]
  }
 ],
 "metadata": {
  "kernelspec": {
   "display_name": "Python 3",
   "language": "python",
   "name": "python3"
  },
  "language_info": {
   "codemirror_mode": {
    "name": "ipython",
    "version": 3
   },
   "file_extension": ".py",
   "mimetype": "text/x-python",
   "name": "python",
   "nbconvert_exporter": "python",
   "pygments_lexer": "ipython3",
   "version": "3.7.0"
  }
 },
 "nbformat": 4,
 "nbformat_minor": 2
}
