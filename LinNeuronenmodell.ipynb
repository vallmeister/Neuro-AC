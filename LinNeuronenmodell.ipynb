{
 "cells": [
  {
   "cell_type": "code",
   "execution_count": 55,
   "metadata": {},
   "outputs": [
    {
     "data": {
      "application/vnd.jupyter.widget-view+json": {
       "model_id": "e09d30bb47df40ec9b7aa47ad63e5682",
       "version_major": 2,
       "version_minor": 0
      },
      "text/plain": [
       "FigureCanvasNbAgg()"
      ]
     },
     "metadata": {},
     "output_type": "display_data"
    },
    {
     "data": {
      "application/vnd.jupyter.widget-view+json": {
       "model_id": "d6fe9e39e9124d44a32bdd661dbfaba3",
       "version_major": 2,
       "version_minor": 0
      },
      "text/plain": [
       "interactive(children=(FloatSlider(value=0.0, description='$tau:', max=5.0), FloatSlider(value=0.0, description…"
      ]
     },
     "metadata": {},
     "output_type": "display_data"
    }
   ],
   "source": [
    "import numpy as np\n",
    "import matplotlib.pyplot as plt\n",
    "%matplotlib widget\n",
    "from ipywidgets import interact\n",
    "import ipywidgets as widgets\n",
    "\n",
    "def lin_model(tau, weight):\n",
    "    # time constants\n",
    "    t0 = 0\n",
    "    t_end = 30\n",
    "    dt = 0.1\n",
    "    \n",
    "    # number of steps\n",
    "    nof_steps = int((t_end-t0)/dt)+1\n",
    "        \n",
    "    # initialize vectors (includes initial values of u1 and u2)\n",
    "    t = np.zeros((1,1))\n",
    "    u1 = np.zeros((1,1))\n",
    "    du1 = t\n",
    "    u2 = u1\n",
    "    du2 = t\n",
    "  \n",
    "    for i in range(nof_steps):\n",
    "        curr_t = i*dt\n",
    "                \n",
    "        # add time to time vector\n",
    "        t = np.append(t, curr_t)\n",
    "        \n",
    "        # get input for first neuron\n",
    "        if curr_t < 5.0:\n",
    "            x1 = 0\n",
    "        elif curr_t > 15:\n",
    "            x1 = 0\n",
    "        else:\n",
    "            x1 = 1\n",
    "        \n",
    "        # get new values\n",
    "        curr_du1 = (x1 - u1[-1])/tau\n",
    "        next_u1 = dt*curr_du1 + u1[-1]\n",
    "        curr_du2 = (weight*u1[-1] - u2[-1])/tau\n",
    "        next_u2 = dt*curr_du2 + u2[-1]\n",
    "        \n",
    "        # add new values to vectors\n",
    "        du1 = np.append(du1, curr_du1) \n",
    "        u1 = np.append(u1, next_u1)\n",
    "        du2 = np.append(du2, curr_du2)\n",
    "        u2 = np.append(u2, next_u2)\n",
    "\n",
    "    return [t, u1, u2, du1, du2]\n",
    "\n",
    "\n",
    "def plot_model(tau=1,weight=0.5):\n",
    "    \n",
    "    fig, (ax1, ax2) = plt.subplots(2,1)\n",
    "    fig.suptitle('model of two linear neurons'\n",
    "                )\n",
    "    \n",
    "    def plot_potentials(tau, weight):\n",
    "        ax1.clear()\n",
    "        ax2.clear()\n",
    "        \n",
    "        # get neuron data\n",
    "        sol  = lin_model(tau, weight)\n",
    "        t = sol[0]\n",
    "        u1 = sol[1]\n",
    "        u2 = sol[2]\n",
    "        du1 = sol[3]\n",
    "        du2 = sol[4]\n",
    "\n",
    "        # plot potentials\n",
    "        p1 = ax1.plot(t, u1, 'r', t, u2, 'b')[0]\n",
    "        ax1.set_ylabel('Potential')\n",
    "\n",
    "        # plot derivatives of potentials\n",
    "        p2 =ax2.plot(t, du1, 'r', t, du2, 'b')[0]\n",
    "        ax2.set_xlabel('time t (s)')\n",
    "        ax2.set_ylabel('Derivative of Potential')\n",
    "\n",
    "        # add legend for both subplots\n",
    "        fig.legend([p1,p2], labels=[\"Neuron 1\", \"Neuron 2\"],\n",
    "                  loc=\"center right\", borderaxespad=0.1)\n",
    "\n",
    "        plt.subplots_adjust(right=0.8)\n",
    "    \n",
    "    tau_slider = widgets.FloatSlider(min=0, max=5, description='$tau:')\n",
    "    weight_slider = widgets.FloatSlider(min=0, max=1, description='c12:')\n",
    "    interact(plot_potentials, tau=tau_slider, weight=weight_slider)\n",
    "    \n",
    "plot_model()"
   ]
  },
  {
   "cell_type": "code",
   "execution_count": null,
   "metadata": {},
   "outputs": [],
   "source": []
  }
 ],
 "metadata": {
  "kernelspec": {
   "display_name": "Python 3",
   "language": "python",
   "name": "python3"
  },
  "language_info": {
   "codemirror_mode": {
    "name": "ipython",
    "version": 3
   },
   "file_extension": ".py",
   "mimetype": "text/x-python",
   "name": "python",
   "nbconvert_exporter": "python",
   "pygments_lexer": "ipython3",
   "version": "3.7.3"
  }
 },
 "nbformat": 4,
 "nbformat_minor": 2
}
