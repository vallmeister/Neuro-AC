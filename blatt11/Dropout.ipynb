{
 "cells": [
  {
   "cell_type": "markdown",
   "metadata": {},
   "source": [
    "# Aufgabe 1\n",
    "## Gruppe AC\n",
    "### Teilaufgabe 1\n",
    "a) Inuitionen für Dropout: <br>\n",
    "Bei der Anwendung von neuronalen Netzen besteht stets das Risiko, dass die Ausgabe fehlerhaft ist. Statt mehrere neuronale Netze zu trainieren und die häufigste Ausgabe als die richtige Ausgabe zu wählen, ist die Idee von Dropout je Trainingsdurchlauf zufällig Neuronen auszublenden, sodass deren Gewichte und Biase nicht angepasst werden. Die Ausgabe dieses einen Netzes soll nach der Trainingsphase im weiteren Sinne die Ausgabeverteilung mehrerer Netze wiedergeben. \n",
    "<br><br>\n",
    "b) Faktor,um die erhöhte Anzahl aktiver Neuronen zu kompensieren: 1/3 <br>\n",
    "## Teilaufgabe 2"
   ]
  },
  {
   "cell_type": "code",
   "execution_count": 2,
   "metadata": {},
   "outputs": [],
   "source": [
    "import pickle\n",
    "data = pickle.load(open('data.pickle', 'rb'))\n",
    "\n",
    "def train_network(dropout_rate):\n",
    "    eta = 0.02\n",
    "    \n",
    "epochen = 3000\n",
    "p = 0.3 # dropout rate\n",
    "alpha = 0.2\n",
    "k = 100 # Anzahl Zwischenschicht"
   ]
  },
  {
   "cell_type": "markdown",
   "metadata": {},
   "source": [
    "### Teilaufgabe 3\n",
    "a) \n"
   ]
  },
  {
   "cell_type": "code",
   "execution_count": null,
   "metadata": {},
   "outputs": [],
   "source": []
  }
 ],
 "metadata": {
  "kernelspec": {
   "display_name": "Python 3",
   "language": "python",
   "name": "python3"
  },
  "language_info": {
   "codemirror_mode": {
    "name": "ipython",
    "version": 3
   },
   "file_extension": ".py",
   "mimetype": "text/x-python",
   "name": "python",
   "nbconvert_exporter": "python",
   "pygments_lexer": "ipython3",
   "version": "3.7.3"
  }
 },
 "nbformat": 4,
 "nbformat_minor": 2
}
