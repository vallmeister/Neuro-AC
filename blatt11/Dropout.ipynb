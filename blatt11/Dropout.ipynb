{
 "cells": [
  {
   "cell_type": "markdown",
   "metadata": {},
   "source": [
    "# **Aufgabe 1**\n",
    "#### *Gruppe AC*\n",
    "**Teilaufgabe 1**  \n",
    "a) Intuitionen für Dropout: <br>\n",
    "Bei der Anwendung von neuronalen Netzen besteht stets das Risiko, dass die Ausgabe fehlerhaft ist. Statt mehrere neuronale Netze zu trainieren und die häufigste Ausgabe als die richtige Ausgabe zu wählen, ist die Idee von Dropout je Trainingsdurchlauf zufällig Neuronen auszublenden, sodass deren Gewichte und Biase nicht angepasst werden. Die Ausgabe dieses einen Netzes soll nach der Trainingsphase im weiteren Sinne die Ausgabeverteilung mehrerer Netze wiedergeben. \n",
    "<br><br>\n",
    "b) Faktor,um die erhöhte Anzahl aktiver Neuronen zu kompensieren: $\\frac{3}{2}$ <br>"
   ]
  },
  {
   "cell_type": "markdown",
   "metadata": {},
   "source": [
    "**Teilaufgabe 2**"
   ]
  },
  {
   "cell_type": "code",
   "execution_count": 1,
   "metadata": {},
   "outputs": [],
   "source": [
    "import pickle\n",
    "import numpy as np\n",
    "import keras\n",
    "from keras import layers, optimizers\n",
    "import matplotlib.pyplot as plt"
   ]
  },
  {
   "cell_type": "code",
   "execution_count": 2,
   "metadata": {},
   "outputs": [],
   "source": [
    "#Daten laden\n",
    "data = pickle.load(open('data.pickle', 'rb'))\n",
    "input = np.reshape(data[:,0], (data.shape[0], -1))\n",
    "T = np.reshape(data[:,1], (data.shape[0], -1))"
   ]
  },
  {
   "cell_type": "code",
   "execution_count": 3,
   "metadata": {},
   "outputs": [],
   "source": [
    "def train_network(dropout_rate):\n",
    "    \n",
    "    model = keras.Sequential()\n",
    "    model.add(layers.Dense(100, activation = 'elu'))\n",
    "    model.add(layers.Dropout(dropout_rate))\n",
    "    model.add(layers.Dense(100, activation = 'elu'))\n",
    "    model.add(layers.Dropout(dropout_rate))\n",
    "    model.add(layers.Dense(1))\n",
    "    \n",
    "    model.compile(optimizer = optimizers.Adam(lr = 0.02), loss = 'mean_squared_error')\n",
    "\n",
    "    model.fit(input, T, epochs = 3000, verbose = 0)\n",
    "    \n",
    "    return model"
   ]
  },
  {
   "cell_type": "code",
   "execution_count": 4,
   "metadata": {},
   "outputs": [
    {
     "name": "stderr",
     "output_type": "stream",
     "text": [
      "WARNING: Logging before flag parsing goes to stderr.\n",
      "W0723 09:44:16.861834  7448 deprecation_wrapper.py:119] From c:\\users\\annika\\appdata\\local\\programs\\python\\python37\\lib\\site-packages\\keras\\backend\\tensorflow_backend.py:74: The name tf.get_default_graph is deprecated. Please use tf.compat.v1.get_default_graph instead.\n",
      "\n",
      "W0723 09:44:16.939788  7448 deprecation_wrapper.py:119] From c:\\users\\annika\\appdata\\local\\programs\\python\\python37\\lib\\site-packages\\keras\\optimizers.py:790: The name tf.train.Optimizer is deprecated. Please use tf.compat.v1.train.Optimizer instead.\n",
      "\n",
      "W0723 09:44:16.939788  7448 deprecation_wrapper.py:119] From c:\\users\\annika\\appdata\\local\\programs\\python\\python37\\lib\\site-packages\\keras\\backend\\tensorflow_backend.py:517: The name tf.placeholder is deprecated. Please use tf.compat.v1.placeholder instead.\n",
      "\n",
      "W0723 09:44:16.939788  7448 deprecation_wrapper.py:119] From c:\\users\\annika\\appdata\\local\\programs\\python\\python37\\lib\\site-packages\\keras\\backend\\tensorflow_backend.py:4138: The name tf.random_uniform is deprecated. Please use tf.random.uniform instead.\n",
      "\n",
      "W0723 09:44:17.158489  7448 deprecation_wrapper.py:119] From c:\\users\\annika\\appdata\\local\\programs\\python\\python37\\lib\\site-packages\\keras\\backend\\tensorflow_backend.py:986: The name tf.assign_add is deprecated. Please use tf.compat.v1.assign_add instead.\n",
      "\n",
      "W0723 09:44:17.252226  7448 deprecation_wrapper.py:119] From c:\\users\\annika\\appdata\\local\\programs\\python\\python37\\lib\\site-packages\\keras\\backend\\tensorflow_backend.py:973: The name tf.assign is deprecated. Please use tf.compat.v1.assign instead.\n",
      "\n",
      "W0723 09:44:20.907575  7448 deprecation.py:506] From c:\\users\\annika\\appdata\\local\\programs\\python\\python37\\lib\\site-packages\\keras\\backend\\tensorflow_backend.py:3445: calling dropout (from tensorflow.python.ops.nn_ops) with keep_prob is deprecated and will be removed in a future version.\n",
      "Instructions for updating:\n",
      "Please use `rate` instead of `keep_prob`. Rate should be set to `rate = 1 - keep_prob`.\n"
     ]
    }
   ],
   "source": [
    "#Trainiere Netzwerke mit verschiedenen Dropout Raten\n",
    "network0 = train_network(0)\n",
    "network03 = train_network(0.3)"
   ]
  },
  {
   "cell_type": "code",
   "execution_count": 5,
   "metadata": {},
   "outputs": [],
   "source": [
    "#Berechne Ausgabe für diskrete Eingabedaten\n",
    "x = np.linspace(-2, 2, num = 41, endpoint = True)\n",
    "output0 = network0.predict(x)\n",
    "output03 = network03.predict(x)"
   ]
  },
  {
   "cell_type": "code",
   "execution_count": 6,
   "metadata": {},
   "outputs": [
    {
     "data": {
      "image/png": "[encoded data removed]",
      "text/plain": [
       "<Figure size 504x360 with 1 Axes>"
      ]
     },
     "metadata": {
      "needs_background": "light"
     },
     "output_type": "display_data"
    }
   ],
   "source": [
    "#Plot\n",
    "plt.figure(figsize=(7,5))\n",
    "plt.scatter(input, T, c = 'b', label = 'Data')\n",
    "plt.plot(x, output0, c = 'r', label = '$p = 0$')\n",
    "plt.plot(x, output03, c = 'g', label = '$p = 0.3$')\n",
    "plt.xlabel('x')\n",
    "plt.ylabel('y')\n",
    "plt.legend()\n",
    "plt.grid()\n",
    "plt.show()"
   ]
  },
  {
   "cell_type": "markdown",
   "metadata": {},
   "source": [
    "**Teilaufgabe 3**"
   ]
  },
  {
   "cell_type": "markdown",
   "metadata": {},
   "source": [
    "a)"
   ]
  },
  {
   "cell_type": "code",
   "execution_count": 7,
   "metadata": {},
   "outputs": [],
   "source": [
    "#Extrahiere Gewichte und Bias\n",
    "W1 = network03.layers[0].get_weights()[0]\n",
    "B1 = network03.layers[0].get_weights()[1]\n",
    "\n",
    "W2 = network03.layers[2].get_weights()[0]\n",
    "B2 = network03.layers[2].get_weights()[1]\n",
    "\n",
    "W3 = network03.layers[4].get_weights()[0]\n",
    "B3 = network03.layers[4].get_weights()[1]"
   ]
  },
  {
   "cell_type": "code",
   "execution_count": 8,
   "metadata": {},
   "outputs": [],
   "source": [
    "def act(X):\n",
    "    alpha = 0.2\n",
    "    \n",
    "    res = np.zeros(np.shape(X))\n",
    "    for i in range(np.shape(X)[0]):\n",
    "        for j in range(np.shape(X)[1]):\n",
    "            if X[i][j] > 0:\n",
    "                res[i][j] = X[i][j]\n",
    "            else:\n",
    "                res[i][j] = alpha * (np.exp(X[i][j]) - 1)\n",
    "    \n",
    "    return res"
   ]
  },
  {
   "cell_type": "code",
   "execution_count": 9,
   "metadata": {},
   "outputs": [],
   "source": [
    "def dropout(X):\n",
    "    p = 0.3\n",
    "    \n",
    "    ncols = np.shape(X)[1]\n",
    "    cols = np.random.randint(0, np.shape(X)[1], int(ncols*p))\n",
    "    \n",
    "    for c in cols:\n",
    "        for i in range(np.shape(X)[0]):\n",
    "            X[i][c] = 0\n",
    "    \n",
    "    return X"
   ]
  },
  {
   "cell_type": "code",
   "execution_count": 10,
   "metadata": {},
   "outputs": [],
   "source": [
    "def forward(X):\n",
    "    \n",
    "    Y1 = dropout(act(np.dot(X, W1) + B1))\n",
    "    Y2 = dropout(act(np.dot(Y1, W2) + B2))\n",
    "    Y3 = np.dot(Y2, W3) + B3\n",
    "    \n",
    "    return Y3"
   ]
  },
  {
   "cell_type": "code",
   "execution_count": 11,
   "metadata": {},
   "outputs": [],
   "source": [
    "#Berechne Netzwerkausgaben\n",
    "output = np.zeros([1001, 1000])\n",
    "X = np.linspace(-5, 5, 1001)\n",
    "X = np.reshape(X, (1001, -1))\n",
    "for i in range(1000):\n",
    "    output[:,i] = np.matrix.flatten(forward(X))"
   ]
  },
  {
   "cell_type": "code",
   "execution_count": 12,
   "metadata": {},
   "outputs": [],
   "source": [
    "#Berechne Erwartungswert und Standardabweichung\n",
    "mu = np.zeros(1001)\n",
    "sigma = np.zeros(1001)\n",
    "\n",
    "for i in range(1001):\n",
    "    mu[i] = output[i,:].mean()\n",
    "    sigma[i] = output[i,:].std()"
   ]
  },
  {
   "cell_type": "code",
   "execution_count": 13,
   "metadata": {},
   "outputs": [
    {
     "data": {
      "image/png": "[encoded data removed]",
      "text/plain": [
       "<Figure size 504x360 with 1 Axes>"
      ]
     },
     "metadata": {
      "needs_background": "light"
     },
     "output_type": "display_data"
    }
   ],
   "source": [
    "#Plot\n",
    "plt.figure(figsize=(7,5))\n",
    "plt.scatter(input, T, c = 'b', label = 'Data')\n",
    "plt.plot(X, mu, c = 'r', label = 'Mean')\n",
    "plt.fill_between(X[:,0], mu - sigma, mu + sigma, label = 'Std range')\n",
    "plt.legend()\n",
    "plt.xlabel('x')\n",
    "plt.ylabel('x')\n",
    "plt.grid()\n",
    "plt.show()"
   ]
  },
  {
   "cell_type": "markdown",
   "metadata": {},
   "source": [
    "e) Die Größe des Unsicherheitsbereiches hängt im Wesentlichen davon ab, wie viele Datenpunkte in der Nähe vorhanden waren."
   ]
  },
  {
   "cell_type": "markdown",
   "metadata": {},
   "source": [
    "f) Durch Hinzufügen neuer Datenpunkte wird die Unsicherheit in diesem Bereich geringer."
   ]
  }
 ],
 "metadata": {
  "kernelspec": {
   "display_name": "Python 3",
   "language": "python",
   "name": "python3"
  },
  "language_info": {
   "codemirror_mode": {
    "name": "ipython",
    "version": 3
   },
   "file_extension": ".py",
   "mimetype": "text/x-python",
   "name": "python",
   "nbconvert_exporter": "python",
   "pygments_lexer": "ipython3",
   "version": "3.7.0"
  }
 },
 "nbformat": 4,
 "nbformat_minor": 2
}
